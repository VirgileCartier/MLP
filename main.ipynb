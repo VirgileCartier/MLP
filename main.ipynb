{
 "cells": [
  {
   "cell_type": "code",
   "execution_count": 1,
   "id": "840eee47",
   "metadata": {},
   "outputs": [],
   "source": [
    "import math\n",
    "import numpy as np\n",
    "import matplotlib.pyplot as plt\n",
    "import random\n",
    "import torch"
   ]
  },
  {
   "cell_type": "code",
   "execution_count": 8,
   "id": "4f9fb4ac",
   "metadata": {},
   "outputs": [],
   "source": [
    "#Class Value pour nous permettre de conserver une trace des parents, enfants etc - permettra d'appliquer une\n",
    "#backpropagation\n",
    "class Value:\n",
    "    \n",
    "    def __init__(self, data, _children = (), _op = '', label = ''):\n",
    "        self.data = data\n",
    "        self.grad = 0.0 #0 au début car on part du principe qu'aucune valeur ne change l'output\n",
    "        self._backward = lambda: None #par défaut, fonction vide qui ne fait rien\n",
    "        self._prev = set(_children)\n",
    "        self._op = _op\n",
    "        self.label = label\n",
    "    \n",
    "    def __repr__(self): #permet de print quelque chose de visible, renverrait autrement un objet value et son\n",
    "        return f\"Value(data={self.data})\" #adresse dans la RAM\n",
    "    \n",
    "    def __radd__(self, other):\n",
    "        return self + other\n",
    "    \n",
    "    def __add__(self, other): # python appelera a.__add__(b)\n",
    "        other = other if isinstance(other, Value) else Value(other) #si other != objet Value, on le traduit en Val\n",
    "        out = Value(self.data + other.data, (self, other), '+')\n",
    "        \n",
    "        def _backward():\n",
    "            self.grad += 1.0 * out.grad\n",
    "            other.grad += 1.0 * out.grad\n",
    "        \n",
    "        out._backward = _backward #on veut renvoyer la fonction, pas ce qu'elle renvoie\n",
    "        return out\n",
    "    \n",
    "    def __pow__(self, other):\n",
    "        assert isinstance(other, (int, float)), \"Supporte que des ints et des floats pour l'instant\"\n",
    "        out = Value(self.data**other, (self,), f'**{other}')\n",
    "        \n",
    "        def _backward():\n",
    "            self.grad += other * (self.data ** (other -1)) * out.grad\n",
    "        out._backward = _backward\n",
    "        \n",
    "        return out\n",
    "    \n",
    "    def __rmul__(self, other):\n",
    "        return self * other\n",
    "    \n",
    "    def __mul__(self, other):\n",
    "        other = other if isinstance(other, Value) else Value(other)\n",
    "        out = Value(self.data * other.data, (self, other), '*')\n",
    "        \n",
    "        def _backward():\n",
    "            self.grad += other.data * out.grad\n",
    "            other.grad += self.data * out.grad\n",
    "        \n",
    "        out._backward = _backward\n",
    "        return out\n",
    "    \n",
    "    def __truediv__(self, other):\n",
    "        return self * other**-1\n",
    "    \n",
    "    def __neg__(self):\n",
    "        return self * -1\n",
    "    \n",
    "    def __sub__(self, other):\n",
    "        return self + (-other)\n",
    "    \n",
    "    def exp(self):\n",
    "        x = self.data\n",
    "        out = Value(math.exp(x), (self, ), 'exp')\n",
    "                        #(x, ) => tuple avec un seul objet\n",
    "        \n",
    "        def _backward():\n",
    "            self.grad += out.data * out.grad\n",
    "        \n",
    "        out._backward = _backward\n",
    "            \n",
    "        return out\n",
    "    \n",
    "    def tanh(self):\n",
    "        x = self.data\n",
    "        t = (math.exp(2 * x) - 1) / (math.exp(2 * x) + 1)\n",
    "        out = Value(t, (self, ), 'tanh')\n",
    "                        #(x, ) => tuple avec un seul objet\n",
    "        \n",
    "        def _backward():\n",
    "            self.grad += (1 - t ** 2) * out.grad\n",
    "        \n",
    "        out._backward = _backward\n",
    "            \n",
    "        return out\n",
    "    \n",
    "    def backward(self):\n",
    "\n",
    "        topo = []\n",
    "        visited = set()\n",
    "        def build_topo(v):\n",
    "            if v not in visited:\n",
    "                visited.add(v)\n",
    "                for child in v._prev:\n",
    "                    build_topo(child)\n",
    "                topo.append(v)\n",
    "        build_topo(self)\n",
    "        \n",
    "        self.grad = 1.0\n",
    "        \n",
    "        for node in reversed(topo):\n",
    "            node._backward()"
   ]
  },
  {
   "cell_type": "code",
   "execution_count": 10,
   "id": "38d8a875",
   "metadata": {},
   "outputs": [],
   "source": [
    "#input x1, x2\n",
    "x1 = Value(2.0, label = 'x1')\n",
    "x2 = Value(0.0, label = 'x2')\n",
    "\n",
    "#poids w1, w2\n",
    "w1 = Value(-3.0, label = 'w1')\n",
    "w2 = Value(1.0, label = 'w2')\n",
    "\n",
    "#biais du neuronne - pris dans le livre neural network from scratch\n",
    "b = Value(6.8813735870195432, label = 'b')\n",
    " \n",
    "#x1 * w1 + x2 * w2 + b à petit pas pour avoir des pointeurs au fur et à mesure - permet la backpropagation\n",
    "x1w1 = x1 * w1; x1w1.label = 'x1*w1'\n",
    "x2w2 = x2 * w2; x2w2.label = 'x2*w2'\n",
    "x1w1x2w2 = x1w1 + x2w2; x1w1x2w2.label = 'x1*w1 + x2*w2'\n",
    "n = x1w1x2w2 + b; n.label = 'n'\n",
    "o = n.tanh() ; o.label = 'o'\n",
    "\n",
    "o.backward()"
   ]
  },
  {
   "cell_type": "code",
   "execution_count": 128,
   "id": "9abec0e9",
   "metadata": {},
   "outputs": [],
   "source": [
    "o.grad = 1.0 # de base _grad vaut 0.0 dans la class, set le premier grad\n",
    "\n",
    "topo = []\n",
    "visited = set()\n",
    "def build_topo(v):\n",
    "    if v not in visited:\n",
    "        visited.add(v)\n",
    "        for child in v._prev:\n",
    "            build_topo(child)\n",
    "        topo.append(v)\n",
    "build_topo(o)\n",
    "\n",
    "for node in reversed(topo):\n",
    "    node._backward()"
   ]
  },
  {
   "cell_type": "code",
   "execution_count": null,
   "id": "8cd30220",
   "metadata": {},
   "outputs": [],
   "source": [
    "#input x1, x2\n",
    "x1 = Value(2.0, label = 'x1')\n",
    "x2 = Value(0.0, label = 'x2')\n",
    "\n",
    "#poids w1, w2\n",
    "w1 = Value(-3.0, label = 'w1')\n",
    "w2 = Value(1.0, label = 'w2')\n",
    "\n",
    "#biais du neuronne, pareillement\n",
    "b = Value(6.8813735870195432, label = 'b')\n",
    " \n",
    "#x1 * w1 + x2 * w2 + b à petit pas pour avoir des pointeurs au fur et à mesure, même raison\n",
    "x1w1 = x1 * w1; x1w1.label = 'x1*w1'\n",
    "x2w2 = x2 * w2; x2w2.label = 'x2*w2'\n",
    "x1w1x2w2 = x1w1 + x2w2; x1w1x2w2.label = 'x1*w1 + x2*w2'\n",
    "n = x1w1x2w2 + b; n.label = 'n'\n",
    "\n",
    "# --------\n",
    "e = (2*n).exp()\n",
    "o = (e - 1) / (e + 1)\n",
    "# --------\n",
    "\n",
    "o.backward()"
   ]
  },
  {
   "cell_type": "code",
   "execution_count": 13,
   "id": "aa1a88c3",
   "metadata": {},
   "outputs": [
    {
     "name": "stdout",
     "output_type": "stream",
     "text": [
      "0.7071066904050358\n",
      "------\n",
      "x2 0.5000001283844369\n",
      "w2 0.0\n",
      "x1 -1.5000003851533106\n",
      "w1 1.0000002567688737\n"
     ]
    }
   ],
   "source": [
    "#Comparaison de nos résultats avec Pytorch :\n",
    "\n",
    "x1 = torch.Tensor([2.0]).double()                    ; x1.requires_grad = True #.double permet un dtype float64\n",
    "x2 = torch.Tensor([0.0]).double()                    ; x2.requires_grad = True # ce qui permet une plus grande\n",
    "w1 = torch.Tensor([-3.0]).double()                   ; w1.requires_grad = True # précision dans les calculs\n",
    "w2 = torch.Tensor([1.0]).double()                    ; w2.requires_grad = True\n",
    "b = torch.Tensor([6.8813735870195432]).double()      ; b.requires_grad = True\n",
    "n = x1 * w1 + x2 * w2 + b\n",
    "o = torch.tanh(n)\n",
    "\n",
    "print(o.data.item()) #.item() retire l'élément du tensor dans lequel il se trouve\n",
    "o.backward()\n",
    "\n",
    "print('------')\n",
    "print('x2', x2.grad.item())\n",
    "print('w2', w2.grad.item())\n",
    "print('x1', x1.grad.item())\n",
    "print('w1', w1.grad.item())"
   ]
  },
  {
   "cell_type": "code",
   "execution_count": 16,
   "id": "a37cb973",
   "metadata": {},
   "outputs": [
    {
     "data": {
      "text/plain": [
       "tensor([0.7071], dtype=torch.float64, grad_fn=<TanhBackward0>)"
      ]
     },
     "execution_count": 16,
     "metadata": {},
     "output_type": "execute_result"
    }
   ],
   "source": [
    "o"
   ]
  },
  {
   "cell_type": "code",
   "execution_count": 17,
   "id": "45f30ed3",
   "metadata": {},
   "outputs": [
    {
     "data": {
      "text/plain": [
       "0.7071066904050358"
      ]
     },
     "execution_count": 17,
     "metadata": {},
     "output_type": "execute_result"
    }
   ],
   "source": [
    "o.item() #résultats similaires !"
   ]
  },
  {
   "cell_type": "code",
   "execution_count": 18,
   "id": "d8d889eb",
   "metadata": {},
   "outputs": [],
   "source": [
    "#réseau de neuronne\n",
    "class Neuron:\n",
    "    \n",
    "    def __init__(self, nin):\n",
    "        self.w = [Value(random.uniform(-1, 1)) for _ in range(nin)]\n",
    "        self.b = Value(random.uniform(-1, 1))\n",
    "        \n",
    "    def __call__(self, x):\n",
    "        # w * x + b\n",
    "        zip(self.w, x) #zip prends deux liste sur lequel itérer et réunis la valeur de \n",
    "        #chaque  index dans un tuple sur le quel il itère\n",
    "        \n",
    "        act = sum((wi * xi for wi, xi in zip(self.w, x)), self.b)\n",
    "        out = act.tanh()\n",
    "        \n",
    "        return out\n",
    "    \n",
    "    def parameters(self):\n",
    "        return self.w + [self.b]\n",
    "\n",
    "class Layer:\n",
    "    \n",
    "    def __init__(self, nin, nout):\n",
    "        self.neurons = [Neuron(nin) for _ in range(nout)]\n",
    "    \n",
    "    def __call__(self, x):\n",
    "        outs = [n(x) for n in self.neurons]\n",
    "        return outs[0] if len(outs) == 1 else outs #permet de renvoyer l'élément de la liste si la liste n'a qu'un\n",
    "        # éléments\n",
    "    \n",
    "    def parameters(self):\n",
    "        return [p for neuron in self.neurons for p in neuron.parameters()]\n",
    "\n",
    "class MLP:\n",
    "    \n",
    "    def __init__(self, nin, nouts):\n",
    "        sz = [nin] + nouts\n",
    "        self.layers = [Layer(sz[i], sz[i + 1]) for i in range(len(nouts))]\n",
    "    \n",
    "    def __call__(self, x):\n",
    "        for layer in self.layers:\n",
    "            x = layer(x)\n",
    "        return x\n",
    "    \n",
    "    def parameters(self):\n",
    "        return [p for layer in self.layers for p in layer.parameters()]"
   ]
  },
  {
   "cell_type": "code",
   "execution_count": 19,
   "id": "054d0a12",
   "metadata": {},
   "outputs": [
    {
     "data": {
      "text/plain": [
       "Value(data=-0.21693394468520402)"
      ]
     },
     "execution_count": 19,
     "metadata": {},
     "output_type": "execute_result"
    }
   ],
   "source": [
    "x = [2.0, 3.0, -1.0]\n",
    "n = MLP(3, [4, 4, 1])\n",
    "n(x)"
   ]
  },
  {
   "cell_type": "code",
   "execution_count": 20,
   "id": "314df455",
   "metadata": {},
   "outputs": [
    {
     "data": {
      "text/plain": [
       "[Value(data=0.6258066781944112),\n",
       " Value(data=0.7987031621564893),\n",
       " Value(data=0.09874373474922704),\n",
       " Value(data=0.655762367936479),\n",
       " Value(data=0.36230682594086905),\n",
       " Value(data=0.9157348679634445),\n",
       " Value(data=0.8551018539949453),\n",
       " Value(data=-0.262877233170276),\n",
       " Value(data=0.883554291072516),\n",
       " Value(data=0.3007726154553507),\n",
       " Value(data=-0.284868299948009),\n",
       " Value(data=-0.4165757451600183),\n",
       " Value(data=-0.6560178251309474),\n",
       " Value(data=-0.024610934113758587),\n",
       " Value(data=0.5966987031545588),\n",
       " Value(data=0.2430501218985912),\n",
       " Value(data=0.3281192076786523),\n",
       " Value(data=0.881698025942619),\n",
       " Value(data=0.5172654837050137),\n",
       " Value(data=-0.9273639337910244),\n",
       " Value(data=0.13739527939731744),\n",
       " Value(data=0.26674187199291177),\n",
       " Value(data=0.8906302090038782),\n",
       " Value(data=-0.010333371961902538),\n",
       " Value(data=0.21814426959594901),\n",
       " Value(data=-0.017910807235872683),\n",
       " Value(data=-0.33797433115581477),\n",
       " Value(data=-0.3981355767720829),\n",
       " Value(data=0.044809735804365536),\n",
       " Value(data=-0.1601275331473455),\n",
       " Value(data=0.40045485681845383),\n",
       " Value(data=-0.5070661023366247),\n",
       " Value(data=0.4559628908684419),\n",
       " Value(data=-0.5896587316813919),\n",
       " Value(data=0.13940469100144282),\n",
       " Value(data=0.6422333694557474),\n",
       " Value(data=-0.054171234972250515),\n",
       " Value(data=0.947215768588018),\n",
       " Value(data=-0.6366348973098079),\n",
       " Value(data=0.21710261456735225),\n",
       " Value(data=-0.9053789057435846)]"
      ]
     },
     "execution_count": 20,
     "metadata": {},
     "output_type": "execute_result"
    }
   ],
   "source": [
    "n.parameters()"
   ]
  },
  {
   "cell_type": "code",
   "execution_count": 21,
   "id": "f6791fff",
   "metadata": {},
   "outputs": [],
   "source": [
    "xs = [\n",
    "    [2.0, 3.0, -1.0],\n",
    "    [3.0, -1.0, 0.5],\n",
    "    [0.5, 1.0, 1.0],\n",
    "    [1.0, 1.0, -1.0],\n",
    "]\n",
    "\n",
    "ys = [1.0, -1.0, -1.0, 1.0] # target que l'on souhaite atteindre"
   ]
  },
  {
   "cell_type": "code",
   "execution_count": 144,
   "id": "04de201b",
   "metadata": {},
   "outputs": [
    {
     "name": "stdout",
     "output_type": "stream",
     "text": [
      "0 7.906105206602827\n",
      "1 7.911093636568248\n",
      "2 7.915591602995168\n",
      "3 7.919667452022988\n",
      "4 7.923377443073448\n",
      "5 7.926768302647951\n",
      "6 7.929879157410131\n",
      "7 7.932743015665671\n",
      "8 7.935387915665355\n",
      "9 7.937837824948708\n",
      "10 7.940113351467943\n",
      "11 7.942232310870031\n",
      "12 7.944210182749806\n",
      "13 7.946060480405518\n",
      "14 7.947795052625903\n",
      "15 7.949424331638477\n",
      "16 7.9509575380903375\n",
      "17 7.9524028514957745\n",
      "18 7.953767552745635\n",
      "19 7.955058143873199\n"
     ]
    }
   ],
   "source": [
    "for k in range(20):\n",
    "    \n",
    "    #forward pass\n",
    "    ypred = [n(x) for x in xs]\n",
    "    loss = sum((yout - ygt)**2 for ygt, yout in zip(ys, ypred))\n",
    "    \n",
    "    #backward pass\n",
    "    for p in n.parameters():\n",
    "        p.grad = 0.0\n",
    "    loss.backward()\n",
    "    \n",
    "    #update \n",
    "    for p in n.parameters():\n",
    "        p.data += 0.05 * p.grad\n",
    "    \n",
    "    print(k, loss.data)"
   ]
  },
  {
   "cell_type": "code",
   "execution_count": 145,
   "id": "eb59698c",
   "metadata": {},
   "outputs": [
    {
     "data": {
      "text/plain": [
       "[Value(data=-0.994551995802675),\n",
       " Value(data=-0.9930340688316286),\n",
       " Value(data=-0.9955061745907926),\n",
       " Value(data=-0.9941794706718133)]"
      ]
     },
     "execution_count": 145,
     "metadata": {},
     "output_type": "execute_result"
    }
   ],
   "source": [
    "ypred # après computation, très proche des targets : réseau fonctionnel !"
   ]
  }
 ],
 "metadata": {
  "kernelspec": {
   "display_name": "Python 3 (ipykernel)",
   "language": "python",
   "name": "python3"
  },
  "language_info": {
   "codemirror_mode": {
    "name": "ipython",
    "version": 3
   },
   "file_extension": ".py",
   "mimetype": "text/x-python",
   "name": "python",
   "nbconvert_exporter": "python",
   "pygments_lexer": "ipython3",
   "version": "3.7.13"
  }
 },
 "nbformat": 4,
 "nbformat_minor": 5
}
